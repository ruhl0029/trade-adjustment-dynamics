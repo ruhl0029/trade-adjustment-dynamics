{
 "cells": [
  {
   "cell_type": "markdown",
   "metadata": {},
   "source": [
    "## Create table 4\n",
    "\n",
    "This code reads the output files from the models and compiles table 4.\n",
    "\n",
    "These are the models that compute the unilateral trade liberalization. The model names in the paper map into the code according to: \n",
    "\n",
    "   * Financial autarky: \\Unilateral_Bench_Autarky\n",
    "   * Non-contingent bond: \\Unilateral_Bench_Bond\n",
    "   * Complete markets: \\Unilateral_Bench_Complete\n",
    "   * The no-cost version of the benchmark model with a non-contingent bond: \\Unilateral_NoCost_Bond\n",
    "   \n",
    "   \n",
    "The following functions extract the numbers needed in the tables from the model output. "
   ]
  },
  {
   "cell_type": "code",
   "execution_count": 1,
   "metadata": {},
   "outputs": [],
   "source": [
    "import numpy as np\n",
    "import pandas as pd"
   ]
  },
  {
   "cell_type": "markdown",
   "metadata": {},
   "source": [
    "### Read in the data\n",
    "\n",
    "These two functions extract the data we need from the model.out files."
   ]
  },
  {
   "cell_type": "code",
   "execution_count": 2,
   "metadata": {},
   "outputs": [],
   "source": [
    "def get_welfare(file_path):\n",
    "    fr = open(file_path)\n",
    "    buffer = fr.readlines()\n",
    "    buffer = [b.strip() for b in  buffer]\n",
    "    buffer = [b for b in buffer if len(b)>0]\n",
    "    \n",
    "    data = {}\n",
    "    for i, elm in enumerate(buffer):\n",
    "        \n",
    "        if elm.startswith('Dynamic gains'):\n",
    "            data['welfareH'] = elm.split()[3]\n",
    "            data['welfareF'] = elm.split()[4]\n",
    "    return data"
   ]
  },
  {
   "cell_type": "code",
   "execution_count": 3,
   "metadata": {},
   "outputs": [],
   "source": [
    "def read_transition(file_path):\n",
    "    fp =  open(file_path)\n",
    "    buffer = fp.readlines()\n",
    "    buffer = [b.strip() for b in  buffer]\n",
    "    buffer = [b for b in buffer if len(b)>0]\n",
    "\n",
    "    trans = []\n",
    "    saveit = 0\n",
    "    for i, elm in enumerate(buffer):\n",
    "        if elm.startswith('Year'):\n",
    "            saveit = 1\n",
    "            linelen = len(elm.split())\n",
    "         \n",
    "        # There may be crud after the transition\n",
    "        if (saveit == 1) and (len(elm.split())==linelen):\n",
    "            trans.append(elm.split())\n",
    "\n",
    "    trans = pd.DataFrame(trans[1:], columns=trans[0], dtype=float)\n",
    "    trans = trans.set_index('Year')\n",
    "    return trans"
   ]
  },
  {
   "cell_type": "markdown",
   "metadata": {},
   "source": [
    "### Extract the transitions and welfare from model output"
   ]
  },
  {
   "cell_type": "code",
   "execution_count": 4,
   "metadata": {},
   "outputs": [],
   "source": [
    "filepaths = ['../Model code/Unilateral_Bench_Bond/Uni_Bench_Bond01.out',\n",
    "             '../Model code/Unilateral_Bench_Autarky/Uni_Bench_Autarky01.out',\n",
    "             '../Model code/Unilateral_Bench_Complete/Uni_Bench_Complete01.out',\n",
    "             '../Model code/Unilateral_NoCost_Bond/Uni_NoCost_Bond01.out'\n",
    "             ]\n",
    "models = ['bond', 'aut', 'complete', 'nocostbond']\n",
    "welfs = {}\n",
    "trans = {}\n",
    "\n",
    "for f, m in zip(filepaths, models):\n",
    "    welfs[m] = get_welfare(f)\n",
    "    trans[m] = read_transition(f)"
   ]
  },
  {
   "cell_type": "markdown",
   "metadata": {},
   "source": [
    "### Compute steady-state to steady-state changes\n",
    "\n",
    "You will receive a warning about taking the log of zero. It can be ignored. "
   ]
  },
  {
   "cell_type": "code",
   "execution_count": 5,
   "metadata": {},
   "outputs": [],
   "source": [
    "def compute_ss_changes(trans):  \n",
    "    ss_change = np.log(trans.loc[300]/trans.loc[0])*100\n",
    "    return ss_change"
   ]
  },
  {
   "cell_type": "code",
   "execution_count": 6,
   "metadata": {},
   "outputs": [
    {
     "name": "stderr",
     "output_type": "stream",
     "text": [
      "C:\\Users\\kimru\\anaconda3\\lib\\site-packages\\pandas\\core\\series.py:679: RuntimeWarning: invalid value encountered in log\n",
      "  result = getattr(ufunc, method)(*inputs, **kwargs)\n"
     ]
    }
   ],
   "source": [
    "ss_changes = {}\n",
    "\n",
    "for m in models:\n",
    "    ss_changes[m] = compute_ss_changes(trans[m])  "
   ]
  },
  {
   "cell_type": "markdown",
   "metadata": {},
   "source": [
    "### Create table 4\n",
    "\n",
    "These next function prints out a row of the table."
   ]
  },
  {
   "cell_type": "code",
   "execution_count": 7,
   "metadata": {},
   "outputs": [],
   "source": [
    "def format_row(symbol, sym_name, data, models, fmt):\n",
    "    t = r'\\hspace{5mm}' + symbol + ' & '\n",
    "    \n",
    "    for c in models:\n",
    "        fstr = '{0:' + fmt + '}'\n",
    "        if data[c][sym_name] == '--':\n",
    "            t = t + '--' + ' & '\n",
    "        else:\n",
    "            t = t + fstr.format(float(data[c][sym_name])) + ' & '\n",
    "\n",
    "    t = t[:-2] + '\\\\\\  \\n'\n",
    "    return t"
   ]
  },
  {
   "cell_type": "code",
   "execution_count": 8,
   "metadata": {},
   "outputs": [],
   "source": [
    "fw = open('table_4.tex', 'w')\n",
    "\n",
    "fw.write(r'\\documentclass[12pt,leqno]{article}' + '\\n')\n",
    "fw.write(r'\\usepackage{booktabs}' + '\\n')\n",
    "fw.write(r'\\usepackage{siunitx}' + '\\n')\n",
    "fw.write(r'\\usepackage[left=0.5in,right=0.5in,top=1in,bottom=1in]{geometry}' + '\\n')\n",
    "\n",
    "fw.write(r'\\sisetup{input-decimal-markers = .,input-ignore = {,}, parse-numbers=false, group-separator={,}, group-four-digits = false}'+'\\n')\n",
    "fw.write(r'\\begin{document}' + '\\n')\n",
    "\n",
    "fw.write(r'\\begin{table}[tbp]' + '\\n')\n",
    "fw.write(r'\\small \\centering')\n",
    "fw.write(r'\\begin{tabular*}{0.8\\textwidth}{l@{\\extracolsep{\\fill}}SSSS}' + '\\n')\n",
    "fw.write(r'\\toprule & \\multicolumn{3}{c}{Benchmark} & {No-cost} \\\\ \\cline{2-4}' + '\\n')\n",
    "fw.write(r'Change & {Bond} & {Fin. Autarky} & {Complete} & {Bond} \\\\' + '\\n')\n",
    "\n",
    "fw.write(r'\\multicolumn{1}{l}{Welfare} &  &  &  &  \\\\' + '\\n')\n",
    "fw.write(format_row('Home', 'welfareH', welfs, models, '0.2f'))\n",
    "fw.write(format_row('Foreign', 'welfareF', welfs, models, '0.2f'))\n",
    "\n",
    "fw.write(r'\\multicolumn{1}{l}{SS Consumption} &  &  &  &  \\\\' + '\\n')\n",
    "fw.write(format_row('Home', 'C1_h', ss_changes, models, '0.2f'))\n",
    "fw.write(format_row('Foreign', 'C1_f', ss_changes, models, '0.2f'))\n",
    "\n",
    "fw.write(r'\\multicolumn{1}{l}{SS Establishments} &  &  &  &  \\\\' + '\\n')\n",
    "fw.write(format_row('Home', 'NT1_h', ss_changes, models, '0.2f'))\n",
    "fw.write(format_row('Foreign', 'NT1_f', ss_changes, models, '0.2f'))\n",
    "\n",
    "fw.write(r'\\bottomrule' + '\\n')\n",
    "fw.write(r'\\end{tabular*}' + '\\n')\n",
    "fw.write(r'\\end{table}'+'\\n')\n",
    "\n",
    "fw.write(r'\\end{document}')\n",
    "fw.close()"
   ]
  },
  {
   "cell_type": "markdown",
   "metadata": {},
   "source": [
    "Done."
   ]
  }
 ],
 "metadata": {
  "hide_input": false,
  "kernelspec": {
   "display_name": "Python 3",
   "language": "python",
   "name": "python3"
  },
  "language_info": {
   "codemirror_mode": {
    "name": "ipython",
    "version": 3
   },
   "file_extension": ".py",
   "mimetype": "text/x-python",
   "name": "python",
   "nbconvert_exporter": "python",
   "pygments_lexer": "ipython3",
   "version": "3.7.7"
  }
 },
 "nbformat": 4,
 "nbformat_minor": 4
}
