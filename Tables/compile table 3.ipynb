{
 "cells": [
  {
   "cell_type": "markdown",
   "metadata": {},
   "source": [
    "## Create table 3\n",
    "\n",
    "This code reads the output files from the models and compiles table 3.\n",
    "\n",
    "The model names in the paper map into the code according to: \n",
    "\n",
    "   * Benchmark:  \\01Benchmark\n",
    "   * Sunk Cost:   \\02Sunkcost\n",
    "   * Sunk-cost High: \\03SunkHigh\n",
    "   * No cost: \\04NoCostSluggish\n",
    "   * Reentry:  \\05ReEntry\n",
    "   * Search:  \\06Search\n",
    "   * Starters: \\07Starter\n",
    "   * Sunk-cost Iceberg: 08SunkIceberg"
   ]
  },
  {
   "cell_type": "code",
   "execution_count": 1,
   "metadata": {},
   "outputs": [],
   "source": [
    "import pandas as pd\n",
    "import numpy as np\n",
    "import json"
   ]
  },
  {
   "cell_type": "markdown",
   "metadata": {},
   "source": [
    "### Model parameters\n",
    "\n",
    "The code that creates table 2 saves the parameter values from all the models into `params.json`. "
   ]
  },
  {
   "cell_type": "code",
   "execution_count": 2,
   "metadata": {},
   "outputs": [],
   "source": [
    "params = json.load(open('params.json'))"
   ]
  },
  {
   "cell_type": "markdown",
   "metadata": {},
   "source": [
    "### Hardcoded parameters\n",
    "\n",
    "These should be double checked after calibration"
   ]
  },
  {
   "cell_type": "code",
   "execution_count": 3,
   "metadata": {},
   "outputs": [],
   "source": [
    "# We always consider a tariff change from 10 percent to zero.\n",
    "tau0 = 1.1\n",
    "tau1 = 1.0\n",
    "\n",
    "# In the sunk-iceberg model (and only in the sunk-iceberg model) the trade costs fall with the liberalization. \n",
    "# The initial values are in the params dict. These are the new ones.\n",
    "xiL_ice = 1.31865253\n",
    "xiH_ice = 1.31865253\n",
    "\n",
    "# For all models except sunk-iceberg, the pre- and post-liberalization values are the same.\n",
    "for k in params:\n",
    "    params[k]['xiL_new'] = params[k]['xiL']\n",
    "    params[k]['xiH_new'] = params[k]['xiH']\n",
    "    \n",
    "params['sunkice']['xiL_new'] = xiL_ice\n",
    "params['sunkice']['xiH_new'] = xiH_ice\n"
   ]
  },
  {
   "cell_type": "markdown",
   "metadata": {},
   "source": [
    "### Function definitions"
   ]
  },
  {
   "cell_type": "code",
   "execution_count": 4,
   "metadata": {},
   "outputs": [],
   "source": [
    "# Period utility\n",
    "def u(c, sigma):\n",
    "    return (c**(1-sigma))/(1-sigma)"
   ]
  },
  {
   "cell_type": "markdown",
   "metadata": {},
   "source": [
    "This function reads in the transition paths from the model.out files. It generates a few new variables, too."
   ]
  },
  {
   "cell_type": "code",
   "execution_count": 5,
   "metadata": {},
   "outputs": [],
   "source": [
    "def read_transition(file_path, params, model):\n",
    "    \n",
    "    alpha = params['alpha']\n",
    "    alphax = params['alpm']\n",
    "    theta = params['theta']\n",
    "    \n",
    "    fp =  open(file_path)\n",
    "    buffer = fp.readlines()\n",
    "    buffer = [b.strip() for b in  buffer]\n",
    "    buffer = [b for b in buffer if len(b)>0]\n",
    "\n",
    "    # The transition data start with the header, which starts with 'Period'\n",
    "    trans = []\n",
    "    saveit = 0\n",
    "    for i, elm in enumerate(buffer):\n",
    "        if elm.startswith('Period'):\n",
    "            saveit = 1\n",
    "            linelen = len(elm.split())\n",
    "         \n",
    "        # There may be crud after the transition\n",
    "        if (saveit == 1) and (len(elm.split())==linelen):\n",
    "            trans.append(elm.split())\n",
    "\n",
    "    trans = pd.DataFrame(trans[1:], columns=trans[0], dtype=float)\n",
    "    trans = trans.set_index('Period')\n",
    "    \n",
    "    # Compute a few more variables. \n",
    "    # Compute alpha K/L\n",
    "    trans['alphaKL'] = (trans['K0']/trans['LP'])**alpha\n",
    "    \n",
    "    # a seris for tau\n",
    "    trans['tau'] = pd.Series([tau1]*len(trans))\n",
    "    trans.loc[0,'tau'] = tau0\n",
    "    \n",
    "    # xil and xih change in the sunk-iceberg model, so create series of trade costs.\n",
    "    trans['xiL'] = params['xiL_new']\n",
    "    trans['xiH'] = params['xiH_new']\n",
    "    trans.loc[0,'xiL'] = params['xiL']\n",
    "    trans.loc[0,'xiH'] = params['xiH']\n",
    "    \n",
    "    \n",
    "    # aggregate export intensity\n",
    "    wtdcost = trans['xiL']**(1-theta)*trans['IntL'] + trans['xiH']**(1-theta)*trans['IntH']\n",
    "    trans['eei'] = trans['tau']**(-theta)*wtdcost / (trans['IntL'] + trans['IntH'] + trans['tau']**(-theta)*wtdcost) \n",
    "        \n",
    "    # export share\n",
    "    trans['exs'] = 1/(1+trans['tau']*np.power(trans['IMD'], -1)) \n",
    "    \n",
    "    # iceberg costs\n",
    "    trans['ice'] = (trans['eei']/(1-trans['eei']) *trans['tau']**(theta))**(1/(1-theta)) -1\n",
    "    \n",
    "    # S\n",
    "    trans['s'] = (trans['IntT'] + trans['tau']**(1-theta)*wtdcost) / (trans['IntT'] + trans['tau']**(-theta)*wtdcost)\n",
    "    trans['s_adj'] = trans['s'] - (alphax*(theta-1)/theta)\n",
    "    \n",
    "    # In the no cost model, thA is the relevant parameter in these calculations. \n",
    "    if model=='nocost':\n",
    "        thA = params['thA']\n",
    "        wtdcost = trans['xiL']**(1-thA)*trans['IntL'] + trans['xiH']**(1-thA)*trans['IntH']\n",
    "                \n",
    "        trans['eei'] = trans['tau']**(-thA)*wtdcost / (trans['IntL'] + trans['IntH'] + trans['tau']**(-thA)*wtdcost)\n",
    "        \n",
    "        trans['ice'] = (trans['eei']/(1-trans['eei']) *trans['tau']**(thA))**(1/(1-thA)) -1\n",
    "               \n",
    "        trans['s'] = (trans['IntT'] + trans['tau']**(1-thA)*trans['xiH']**(1-thA)*trans['IntT']) / (trans['IntT'] + trans['tau']**(-thA)*trans['xiH']**(1-thA)*trans['IntT'])\n",
    "        \n",
    "        trans['s_adj'] = trans['s'] - (alphax*(thA-1)/thA)\n",
    "    \n",
    "    return trans"
   ]
  },
  {
   "cell_type": "markdown",
   "metadata": {},
   "source": [
    "### Load the transition path data\n",
    "\n",
    "Read in the transition path data for each model."
   ]
  },
  {
   "cell_type": "code",
   "execution_count": 6,
   "metadata": {},
   "outputs": [],
   "source": [
    "paths = ['../Model code/01Benchmark/Benchamrk01.out', '../Model code/02SunkCost/SunkCost01.out',\n",
    "        '../Model code/03SunkHigh/SunkHigh01.out', '../Model code/08SunkIceberg/Sunk_Iceberg01.out', \n",
    "        '../Model code/05ReEntry/Reentry01.out', '../Model code/06Search/Search01.out',\n",
    "        '../Model code/07Starter/Starter01.out', '../Model code/04NoCostSluggish/NoCost01.out']\n",
    "\n",
    "models = ['bench', 'sunk', 'sunkhigh', 'sunkice', 'reentry', 'search', 'starter', 'nocost']\n",
    "trans = {}\n",
    "\n",
    "for m, p in zip(models, paths):\n",
    "    trans[m] = read_transition(p, params[m], m)\n"
   ]
  },
  {
   "cell_type": "markdown",
   "metadata": {},
   "source": [
    "### Compute the steady-state to steady-state changes"
   ]
  },
  {
   "cell_type": "code",
   "execution_count": 7,
   "metadata": {},
   "outputs": [],
   "source": [
    "def compute_ss_changes(trans, params, model):\n",
    "    theta = params['theta']\n",
    "    alphax = params['alpm']\n",
    "    \n",
    "    ss_change = np.log(trans.loc[303]/trans.loc[0])*100\n",
    "    \n",
    "    # psid hat normalzed\n",
    "    ss_change.loc['psidhat_norm'] = (ss_change['IntT'] - ss_change['NT'])/(theta-1)/(1-alphax)\n",
    "\n",
    "    # lmbda hat normalized\n",
    "    ss_change.loc['lambdahat_norm'] = -ss_change['lambda']/(theta-1)/(1-alphax)\n",
    "\n",
    "    # N hat normalized\n",
    "    ss_change['nhat_norm'] = ss_change['NT']/(theta-1)/(1-alphax)\n",
    "\n",
    "    # elasticity\n",
    "    ss_change['elast'] = ss_change['IMD']/np.log(1.1)/100\n",
    "    \n",
    "    # exporter premium\n",
    "    ss_change['prem'] = ss_change['exs'] - ss_change['eei'] - ss_change['n_X']\n",
    "    \n",
    "    # In the no-cost model, thA is the relevant parameter. \n",
    "    if model == 'nocost':\n",
    "        thA = params['thA']\n",
    "        ss_change.loc['psidhat_norm'] = (ss_change['IntT'] - ss_change['NT'])/(thA-1)/(1-alphax)\n",
    "        ss_change.loc['lambdahat_norm'] = -ss_change['lambda']/(thA-1)/(1-alphax)\n",
    "        ss_change['nhat_norm'] = ss_change['NT']/(thA-1)/(1-alphax)\n",
    "    \n",
    "    return ss_change"
   ]
  },
  {
   "cell_type": "code",
   "execution_count": 8,
   "metadata": {},
   "outputs": [
    {
     "name": "stderr",
     "output_type": "stream",
     "text": [
      "C:\\Users\\kimru\\anaconda3\\lib\\site-packages\\pandas\\core\\series.py:679: RuntimeWarning: invalid value encountered in log\n",
      "  result = getattr(ufunc, method)(*inputs, **kwargs)\n"
     ]
    }
   ],
   "source": [
    "ss_changes = {}\n",
    "\n",
    "for m in models:\n",
    "    ss_changes[m] = compute_ss_changes(trans[m], params[m], m)"
   ]
  },
  {
   "cell_type": "markdown",
   "metadata": {},
   "source": [
    "### Discounted changes\n",
    "\n",
    "The discounted changes are the sum of the period t growth rate multiplied by beta to the t-1, plus an adjustment that assumes we are in the steady state in the last period of our computed transition. "
   ]
  },
  {
   "cell_type": "code",
   "execution_count": 9,
   "metadata": {},
   "outputs": [],
   "source": [
    "def discounted_growth(var, betat, T, beta):\n",
    "    # The transition growth rates weighted by beta^t\n",
    "    temp = (np.log(var/var.iloc[0]) * betat).sum() \n",
    "    # The adjustment for the new steady state\n",
    "    return (temp + np.log(var.iloc[-1]/var.iloc[0])/(1-beta)*beta**(T) )*(1-beta)*100"
   ]
  },
  {
   "cell_type": "code",
   "execution_count": 10,
   "metadata": {},
   "outputs": [],
   "source": [
    "def compute_dis_changes(trans, params, model):\n",
    "    '''Pass this the DataFrame of transition paths from a model and return the discounted growth rates.'''\n",
    "    res = {}\n",
    "    \n",
    "    beta = params['beta']\n",
    "    theta = params['theta']\n",
    "    alphax = params['alpm']\n",
    "    sigma = params['sigma']\n",
    "    T = trans.shape[0]-1\n",
    "    \n",
    "    # Column of beta^t = 0, 1, beta, beta^2,...\n",
    "    trans['betat'] = pd.Series([beta**(t-1) for t in range(0, T+1)], name='betat')\n",
    "    trans.loc[0, 'betat'] = 0\n",
    "        \n",
    "    # Discounted Y hat\n",
    "    res['dy'] = discounted_growth(trans['Y'], trans['betat'], T, beta)\n",
    "    \n",
    "    # Discounted S hat - ax(theta-1)/theta\n",
    "    res['dsadj'] = discounted_growth(trans['s_adj'], trans['betat'], T, beta)\n",
    "    \n",
    "    # Discounted Lp hat\n",
    "    res['dlp'] = discounted_growth(trans['LP'], trans['betat'], T, beta)\n",
    "        \n",
    "    # Discounted alpha K/L\n",
    "    res['dkl'] = discounted_growth(trans['alphaKL'], trans['betat'], T, beta)\n",
    "        \n",
    "    # Discounted N\n",
    "    res['dn'] = discounted_growth(trans['NT'], trans['betat'], T, beta)/(theta-1)/(1-alphax)\n",
    "    \n",
    "    if model == 'nocost':\n",
    "        thA = params['thA']\n",
    "        res['dn'] = discounted_growth(trans['NT'], trans['betat'], T, beta)/(thA-1)/(1-alphax)\n",
    "        \n",
    "    # Discounted psid\n",
    "    res['dpsid'] = discounted_growth(trans['IntT']/trans['NT'], trans['betat'], T, beta)/(theta-1)/(1-alphax)\n",
    "    \n",
    "    if model == 'nocost':\n",
    "        thA = params['thA']\n",
    "        res['dpsid'] = discounted_growth(trans['IntT']/trans['NT'], trans['betat'], T, beta)/(thA-1)/(1-alphax)\n",
    "    \n",
    "    # Discounted lambda\n",
    "    res['dlam'] = -discounted_growth(trans['lambda'], trans['betat'], T, beta)/(theta-1)/(1-alphax)\n",
    "    \n",
    "    if model == 'nocost':\n",
    "        thA = params['thA']\n",
    "        res['dlam'] = -discounted_growth(trans['lambda'], trans['betat'], T, beta)/(thA-1)/(1-alphax)\n",
    "        \n",
    "    # Elasticity\n",
    "    res['delas'] = (np.log(trans['IMD']/trans.loc[0, 'IMD'])/np.log(1.1) * trans['betat']).sum()\n",
    "    res['delas'] = (res['delas'] + (np.log(trans.loc[T, 'IMD']/trans.loc[0, 'IMD'])/np.log(1.1))/(1-beta)*beta**(T))*(1-beta)\n",
    "    \n",
    "    # Welfare ---------------------------------------------------------------------------\n",
    "    # Welfare at time zero is u(C_0) * 1/(1-beta) since we are in steady state\n",
    "    W0 = u(trans.loc[0,'C'], sigma)/(1-beta)\n",
    "    \n",
    "    # Sum up welfare in our transition\n",
    "    trans['u'] = trans['C'].apply(u, args=(sigma,) )\n",
    "    W1 = (trans['betat'] * trans['u']).sum()\n",
    "    \n",
    "    # Assume that consumption has converged to the new steady state\n",
    "    final_cons = trans.loc[T, 'u'] \n",
    "    W1 = W1 + final_cons/(1-beta) * beta**(T+1)\n",
    "    \n",
    "    res['dwelfare'] = -np.log(W1/W0)*100\n",
    "    \n",
    "    return  pd.Series(res)\n"
   ]
  },
  {
   "cell_type": "code",
   "execution_count": 11,
   "metadata": {},
   "outputs": [],
   "source": [
    "dis_changes = {}\n",
    "for m in models:\n",
    "    dis_changes[m] = compute_dis_changes(trans[m], params[m], m)"
   ]
  },
  {
   "cell_type": "markdown",
   "metadata": {},
   "source": [
    "### Create table 3\n",
    "\n",
    "These next two function print out a row of the table. The `format_row_dis` is only different in that it puts square brackets around the values and adds some extra space after the line."
   ]
  },
  {
   "cell_type": "code",
   "execution_count": 12,
   "metadata": {},
   "outputs": [],
   "source": [
    "def format_row(symbol, sym_name, data, models, fmt):\n",
    "    t = symbol + ' & '\n",
    "    \n",
    "    for c in models:\n",
    "        fstr = '{0:' + fmt + '}'\n",
    "        if data[c][sym_name] == '--':\n",
    "            t = t + '--' + ' & '\n",
    "        else:\n",
    "            t = t + fstr.format(float(data[c][sym_name])) + ' & '\n",
    "\n",
    "    t = t[:-2] + '\\\\\\ \\n'\n",
    "    return t"
   ]
  },
  {
   "cell_type": "code",
   "execution_count": 13,
   "metadata": {},
   "outputs": [],
   "source": [
    "def format_row_dis(symbol, sym_name, data, models, fmt):\n",
    "    t = symbol + ' & '\n",
    "    \n",
    "    for c in models:\n",
    "        fstr = '[{0:' + fmt + '}]'\n",
    "        if data[c][sym_name] == '--':\n",
    "            t = t + '--' + ' & '\n",
    "        else:\n",
    "            t = t + fstr.format(float(data[c][sym_name])) + ' & '\n",
    "\n",
    "    t = t[:-2] + '\\\\\\ [1ex] \\n'\n",
    "    return t"
   ]
  },
  {
   "cell_type": "code",
   "execution_count": 14,
   "metadata": {},
   "outputs": [],
   "source": [
    "fw = open('table_3.tex', 'w')\n",
    "\n",
    "fw.write(r'\\documentclass[12pt,leqno]{article}' + '\\n')\n",
    "fw.write(r'\\usepackage{booktabs}' + '\\n')\n",
    "fw.write(r'\\usepackage{siunitx}' + '\\n')\n",
    "fw.write(r'\\usepackage[left=0.5in,right=0.5in,top=1in,bottom=1in]{geometry}' + '\\n')\n",
    "\n",
    "fw.write(r'\\sisetup{input-decimal-markers = .,input-ignore = {,}, parse-numbers=false, group-separator={,}, group-four-digits = false}'+'\\n')\n",
    "fw.write(r'\\begin{document}' + '\\n')\n",
    "\n",
    "fw.write(r'\\begin{table}[tbp]' + '\\n')\n",
    "fw.write(r'\\small \\centering')\n",
    "fw.write(r'\\begin{tabular}{lSSSSSSSS}' + '\\n')\n",
    "fw.write(r'\\toprule' + '\\n')\n",
    "\n",
    "fw.write(r'& {Bench    } & {Sunk-cost} & {Sunk-cost} & {Sunk-cost} & {Reentry  } & {Search   } & {Starters } & {No-Cost  } \\\\' + '\\n') \n",
    "fw.write(r'& {       } & {       } & {High   } & {Iceberg} & {       } & {       } & {       } & {       } \\\\' + '\\n') \n",
    "fw.write(r'\\midrule'+ '\\n') \n",
    "\n",
    "fw.write(r'\\multicolumn{9}{l}{\\textit{Trade Elasticity}} \\\\ [0.5ex]' + '\\n')\n",
    "fw.write(format_row('Discounted', 'delas', dis_changes, models, '0.2f' ))\n",
    "fw.write(format_row('Steady state', 'elast', ss_changes, models, '0.2f' ))\n",
    "\n",
    "fw.write(r'[1.5ex]\\multicolumn{9}{l}{\\textit{Change in}} \\\\ [0.5ex]' + '\\n')\n",
    "fw.write(format_row('Welfare', 'dwelfare', dis_changes, models, '0.2f' ))\n",
    "fw.write(format_row('Consumption', 'C', ss_changes, models, '0.2f' ))\n",
    "fw.write(format_row('Estab.', 'NT', ss_changes, models, '0.2f' ))\n",
    "fw.write(format_row('Exporters', 'n_X', ss_changes, models, '0.2f' ))\n",
    "fw.write(format_row('Ex. Intensity', 'eei', ss_changes, models, '0.2f' ))\n",
    "fw.write(format_row('Ex. Premium', 'prem', ss_changes, models, '0.2f' ))\n",
    "fw.write(format_row('Iceberg Cost', 'ice', ss_changes, models, '0.2f' ))\n",
    "\n",
    "\n",
    "fw.write(r'[1.5ex]\\multicolumn{9}{l}{\\textit{SS output decomposition (Discounted values in brackets)}} \\\\ [0.5ex]' + '\\n')\n",
    "fw.write(format_row(r'$\\widehat{Y}$', 'Y', ss_changes, models, '0.2f' ))\n",
    "fw.write(format_row_dis(r'', 'dy', dis_changes, models, '0.2f' ))\n",
    "\n",
    "fw.write(format_row(r'$\\widehat{L}_p$', 'LP', ss_changes, models, '0.2f' ))\n",
    "fw.write(format_row_dis(r'', 'dlp', dis_changes, models, '0.2f' ))\n",
    "\n",
    "fw.write(format_row(r'$\\alpha \\widehat{\\frac{K}{L}}$', 'alphaKL', ss_changes, models, '0.2f' ))\n",
    "fw.write(format_row_dis(r'', 'dkl', dis_changes, models, '0.2f' ))\n",
    "\n",
    "fw.write(format_row(r'$\\widehat{S-\\frac{\\alpha_x(\\theta-1)}{\\theta}}$', 's_adj', ss_changes, models, '0.2f' ))\n",
    "fw.write(format_row_dis(r'', 'dsadj', dis_changes, models, '0.2f' ))\n",
    "\n",
    "fw.write(format_row(r'$\\widehat{N^\\dagger}$', 'nhat_norm', ss_changes, models, '0.2f' ))\n",
    "fw.write(format_row_dis(r'', 'dn', dis_changes, models, '0.2f' ))\n",
    "\n",
    "fw.write(format_row(r'$\\widehat{\\psi_d^\\dagger}$', 'psidhat_norm', ss_changes, models, '0.2f' ))\n",
    "fw.write(format_row_dis(r'', 'dpsid', dis_changes, models, '0.2f' ))\n",
    "\n",
    "fw.write(format_row(r'$\\widehat{\\lambda^\\dagger}$', 'lambdahat_norm', ss_changes, models, '0.2f' ))\n",
    "fw.write(format_row_dis(r'', 'dlam', dis_changes, models, '0.2f' ))\n",
    "\n",
    "\n",
    "fw.write(r'\\bottomrule' + '\\n')\n",
    "fw.write(r'\\end{tabular}' + '\\n')\n",
    "fw.write(r'\\end{table}'+'\\n')\n",
    "\n",
    "fw.write(r'\\end{document}')\n",
    "fw.close()"
   ]
  },
  {
   "cell_type": "markdown",
   "metadata": {},
   "source": [
    "Done."
   ]
  }
 ],
 "metadata": {
  "celltoolbar": "Edit Metadata",
  "hide_input": false,
  "kernelspec": {
   "display_name": "Python 3",
   "language": "python",
   "name": "python3"
  },
  "language_info": {
   "codemirror_mode": {
    "name": "ipython",
    "version": 3
   },
   "file_extension": ".py",
   "mimetype": "text/x-python",
   "name": "python",
   "nbconvert_exporter": "python",
   "pygments_lexer": "ipython3",
   "version": "3.7.7"
  }
 },
 "nbformat": 4,
 "nbformat_minor": 4
}
